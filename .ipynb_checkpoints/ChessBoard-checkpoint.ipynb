{
 "cells": [
  {
   "cell_type": "code",
   "execution_count": 175,
   "id": "d5b9de83-9a0a-485d-a00d-10b16b7959df",
   "metadata": {},
   "outputs": [
    {
     "data": {
      "image/png": "[encoded data removed]",
      "text/plain": [
       "<Figure size 432x288 with 1 Axes>"
      ]
     },
     "metadata": {
      "needs_background": "light"
     },
     "output_type": "display_data"
    }
   ],
   "source": [
    "import numpy as np\n",
    "import matplotlib.pyplot as plt # this library for make drow(visual data)\n",
    "\n",
    "\n",
    "class ChessBoard:\n",
    "    '''\n",
    "    Define a ChessBoard class - should contain an 8x8 grid - Each cell in grid should have a color represented in RGB format. - black = (0,0,0) - white = (1,1,1) - blue = (0,1,1) - red = (1,.2,0)\n",
    "    '''\n",
    "    def __init__(self):\n",
    "#         self.grid = np.zeros((8,8,4)) # zero , black \n",
    "        self.grid = np.ones((8,8,3))# ones, white\n",
    "        self.postionQueenRed=None\n",
    "        self.postionQueenBlue=None\n",
    "        for i in range(8):\n",
    "            for j in range(8):\n",
    "                 if (i%2==0 and j%2==0) or (i%2==1 and j%2==1):\n",
    "                    self.grid[i,j] = [0,0,0]\n",
    "    def add_red(self,xAxis,yAxis):\n",
    "'''\n",
    "should have add_red method that accepts a row and column as input which colors corresponding cell.\n",
    "'''\n",
    "        self.postionQueenRed=(xAxis,yAxis)\n",
    "        self.grid[xAxis,yAxis] = [2,0,0]\n",
    "        self.render()\n",
    "    def add_blue(self,xAxis,yAxis):\n",
    "        '''\n",
    "        should have add_blue method that accepts a row and column as input which colors corresponding cell.'''\n",
    "        self.postionQueenBlue=(xAxis,yAxis)\n",
    "        self.grid[xAxis,yAxis] = [0,0,1]\n",
    "        self.render()\n",
    "    def render(self):\n",
    "        '''\n",
    "        should have render method that displays the chess board on screen with red and blue shown in correct locations\n",
    "        '''\n",
    "        plt.imshow(self.grid)\n",
    "    def is_under_attack(self):\n",
    "        '''\n",
    "        should have is_under_attack method that return boolean if red is under attack by a blue piece horizontally, vertically or diagonally\n",
    "        '''\n",
    "        if (self.postionQueenRed[0]==self.postionQueenBlue[0]) or (self.postionQueenRed[1]==self.postionQueenBlue[1]):\n",
    "            #         case 1 in the same row \n",
    "            return True\n",
    "        \n",
    "        elif (abs(self.postionQueenRed[0]-self.postionQueenBlue[0])==abs(self.postionQueenRed[1]-self.postionQueenBlue[1])):\n",
    "            # diagonally attack , the same \n",
    "            return True\n",
    "        else:\n",
    "            return False\n",
    "\n",
    "\n",
    "board = ChessBoard()# instance Chess\n",
    "allTable=board.grid\n",
    "# board.add_red(1,4)\n",
    "# board.add_blue(2,3)\n",
    "# board.is_under_attack()\n",
    "board.render()# show table\n",
    "# ----------------------------------------- test part -----------------------------------------------------------\n",
    "def test_underAttack_row_case():\n",
    "    # queens on same row should be “under attack”\n",
    "    board.add_red(5,0)\n",
    "    board.add_blue(5,4)\n",
    "    assert board.is_under_attack()==True\n",
    "\n",
    "def test_underAttack_column_case():\n",
    "#     queens on same column should be “under attack”\n",
    "    board.add_red(0,5)\n",
    "    board.add_blue(5,5)\n",
    "    assert board.is_under_attack()==True\n",
    "def test_underAttack_diagonal_case():\n",
    "#     queens on same diagonal should be “under attack”\n",
    "    board.add_red(0,2)\n",
    "    board.add_blue(2,4)\n",
    "    assert board.is_under_attack()==True\n",
    "    board.add_red(1,4)\n",
    "    board.add_blue(2,3)\n",
    "    assert board.is_under_attack()==True\n",
    "def test_underAttack_diagonal_case():\n",
    "#     queens with any other coordinates should NOT be “under attack”\n",
    "    board.add_red(0,4)\n",
    "    board.add_blue(2,0)\n",
    "    assert board.is_under_attack()==False\n",
    "    \n",
    "# test_underAttack_row_case()\n",
    "# test_underAttack_column_case()\n",
    "# test_underAttack_diagonal_case()\n",
    "# test_underAttack_diagonal_case()"
   ]
  },
  {
   "cell_type": "code",
   "execution_count": null,
   "id": "adad8e04-9e53-4f33-9e88-2413ab8f6bc7",
   "metadata": {},
   "outputs": [],
   "source": []
  },
  {
   "cell_type": "code",
   "execution_count": null,
   "id": "896d00b1-2c02-4515-9bad-24bbfe47d140",
   "metadata": {},
   "outputs": [],
   "source": []
  }
 ],
 "metadata": {
  "kernelspec": {
   "display_name": "Python 3",
   "language": "python",
   "name": "python3"
  },
  "language_info": {
   "codemirror_mode": {
    "name": "ipython",
    "version": 3
   },
   "file_extension": ".py",
   "mimetype": "text/x-python",
   "name": "python",
   "nbconvert_exporter": "python",
   "pygments_lexer": "ipython3",
   "version": "3.9.4"
  }
 },
 "nbformat": 4,
 "nbformat_minor": 5
}
